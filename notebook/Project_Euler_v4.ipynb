{
 "cells": [
  {
   "cell_type": "code",
   "execution_count": 23,
   "metadata": {},
   "outputs": [],
   "source": [
    "import numpy as np\n",
    "import datetime\n",
    "from datetime import date"
   ]
  },
  {
   "cell_type": "markdown",
   "metadata": {},
   "source": [
    "# Project Euler\n"
   ]
  },
  {
   "cell_type": "markdown",
   "metadata": {},
   "source": [
    "## Multiples of 3 or 5 \n",
    "\n",
    "See exercise web page [Problem 1](https://projecteuler.net/problem=1)."
   ]
  },
  {
   "cell_type": "code",
   "execution_count": 4,
   "metadata": {},
   "outputs": [],
   "source": [
    "# last year's code\n",
    "# def multiples(n=10, mult = [3, 5]):\n",
    "#     lista = [*range(n)]\n",
    "#     result_numbers = []\n",
    "\n",
    "#     for i in range(1, len(lista)):\n",
    "\n",
    "#         if lista[i]/mult[0] - round(lista[i]/mult[0],0) == 0:\n",
    "#             result_numbers.append(i)\n",
    "\n",
    "#         elif lista[i]/mult[1] - round(lista[i]/mult[1],0) == 0:\n",
    "#             result_numbers.append(i)\n",
    "\n",
    "#         else:\n",
    "#             None\n",
    "\n",
    "#     result_sum = sum(result_numbers)\n",
    "\n",
    "#     return np.array(result_numbers), np.array(result_sum)\n"
   ]
  },
  {
   "cell_type": "code",
   "execution_count": 124,
   "metadata": {},
   "outputs": [],
   "source": [
    "def multiples(n, mult):\n",
    "    return sum(i for i in range(n) if i % mult[0] == 0 or i %  mult[1] == 0 )"
   ]
  },
  {
   "cell_type": "code",
   "execution_count": 125,
   "metadata": {},
   "outputs": [
    {
     "data": {
      "text/plain": [
       "23"
      ]
     },
     "execution_count": 125,
     "metadata": {},
     "output_type": "execute_result"
    }
   ],
   "source": [
    "multiple = multiples(n = 10, mult = [3, 5])\n",
    "multiple"
   ]
  },
  {
   "cell_type": "markdown",
   "metadata": {},
   "source": [
    "## Sum Square Difference \n",
    "\n",
    "See exercise web page [Problem 6](https://projecteuler.net/problem=6)."
   ]
  },
  {
   "cell_type": "code",
   "execution_count": 32,
   "metadata": {},
   "outputs": [],
   "source": [
    "# last year's code\n",
    "# def sum_sqr_dif(n):\n",
    "#     result_sq = []\n",
    "#     lista = [*range(1, n+1)]\n",
    "#     sum_sqs = np.square(lista).sum()\n",
    "#     sq_sum = np.sum(lista) ** 2\n",
    "#     result_sq =  sq_sum - sum_sqs\n",
    "#     return result_sq\n"
   ]
  },
  {
   "cell_type": "code",
   "execution_count": 126,
   "metadata": {},
   "outputs": [],
   "source": [
    "def sum_sqr_dif(n):\n",
    "    return sum( range(1, n + 1)) ** 2 - sum( x ** 2 for x in range(1, n + 1))"
   ]
  },
  {
   "cell_type": "code",
   "execution_count": 127,
   "metadata": {},
   "outputs": [
    {
     "data": {
      "text/plain": [
       "25164150"
      ]
     },
     "execution_count": 127,
     "metadata": {},
     "output_type": "execute_result"
    }
   ],
   "source": [
    "sum_square = sum_sqr_dif(100)\n",
    "sum_square"
   ]
  },
  {
   "cell_type": "markdown",
   "metadata": {},
   "source": [
    "## Counting Sundays \n",
    "\n",
    "See exercise web page [Problem 19](https://projecteuler.net/problem=19)."
   ]
  },
  {
   "cell_type": "code",
   "execution_count": 57,
   "metadata": {},
   "outputs": [],
   "source": [
    "# last year's code\n",
    "# date_initial = datetime.date(1901, 1, 1)\n",
    "# date_final = datetime.date(2000, 12, 31)\n",
    "# def counting_sundays(date_initial, date_final):\n",
    "#     lista = 0\n",
    "#     for year in range(date_initial.year, date_final.year+1):\n",
    "#         for month in range(date_initial.month, date_final.month+1):\n",
    "#             if datetime.date(year, month, 1).weekday() == 6:\n",
    "#                 lista = lista +1\n",
    "\n",
    "#     lista\n",
    "#     return lista"
   ]
  },
  {
   "cell_type": "code",
   "execution_count": 128,
   "metadata": {},
   "outputs": [],
   "source": [
    "def counting_sundays(date_initial, date_final):\n",
    "    return len([datetime.date(year, month, 1) for year in range(date_initial.year, date_final.year + 1) for month in range(1, 13)\n",
    "            if datetime.date(year, month, 1).weekday() == 6])"
   ]
  },
  {
   "cell_type": "code",
   "execution_count": 129,
   "metadata": {},
   "outputs": [
    {
     "data": {
      "text/plain": [
       "171"
      ]
     },
     "execution_count": 129,
     "metadata": {},
     "output_type": "execute_result"
    }
   ],
   "source": [
    "sundays = counting_sundays(date_initial= datetime.date(1901, 1, 1),\n",
    "                 date_final= datetime.date(2000, 12, 31))\n",
    "\n",
    "sundays"
   ]
  },
  {
   "cell_type": "markdown",
   "metadata": {},
   "source": [
    "## Checking Results"
   ]
  },
  {
   "cell_type": "code",
   "execution_count": 130,
   "metadata": {},
   "outputs": [
    {
     "name": "stdout",
     "output_type": "stream",
     "text": [
      "\n",
      "\u001b[1m============================= test session starts ==============================\u001b[0m\n",
      "platform darwin -- Python 3.8.12, pytest-8.2.2, pluggy-1.5.0 -- /Users/emilioaguiar/.pyenv/versions/3.8.12/envs/euler/bin/python\n",
      "cachedir: .pytest_cache\n",
      "rootdir: /Users/emilioaguiar/code/Emilio1030/project_euler\n",
      "\u001b[1mcollecting ... \u001b[0mcollected 3 items\n",
      "\n",
      "test_score.py::TestScore::test_score_multiple \u001b[32mPASSED\u001b[0m\u001b[32m                     [ 33%]\u001b[0m\n",
      "test_score.py::TestScore::test_score_sum_square \u001b[32mPASSED\u001b[0m\u001b[32m                   [ 66%]\u001b[0m\n",
      "test_score.py::TestScore::test_score_sundays \u001b[32mPASSED\u001b[0m\u001b[32m                      [100%]\u001b[0m\n",
      "\n",
      "\u001b[32m============================== \u001b[32m\u001b[1m3 passed\u001b[0m\u001b[32m in 0.03s\u001b[0m\u001b[32m ===============================\u001b[0m\n",
      "\n",
      "\n",
      "💯 You can commit your code:\n",
      "\n",
      "\u001b[1;32mgit\u001b[39m add tests/score.pickle\n",
      "\n",
      "\u001b[32mgit\u001b[39m commit -m \u001b[33m'Completed score step'\u001b[39m\n",
      "\n",
      "\u001b[32mgit\u001b[39m push origin master\n",
      "\n"
     ]
    }
   ],
   "source": [
    "from nbresult import ChallengeResult\n",
    "\n",
    "results = ChallengeResult('score',\n",
    "    multiple=multiple,\n",
    "    sum_square=sum_square,\n",
    "    sundays=sundays\n",
    ")\n",
    "results.write()\n",
    "\n",
    "print(results.check())\n",
    "\n",
    "# More information see the \"PKG-INFO\" file"
   ]
  }
 ],
 "metadata": {
  "kernelspec": {
   "display_name": "lewagon",
   "language": "python",
   "name": "python3"
  },
  "language_info": {
   "codemirror_mode": {
    "name": "ipython",
    "version": 3
   },
   "file_extension": ".py",
   "mimetype": "text/x-python",
   "name": "python",
   "nbconvert_exporter": "python",
   "pygments_lexer": "ipython3",
   "version": "3.8.12"
  },
  "orig_nbformat": 4
 },
 "nbformat": 4,
 "nbformat_minor": 2
}
