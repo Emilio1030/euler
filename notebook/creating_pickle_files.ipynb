{
 "cells": [
  {
   "cell_type": "code",
   "execution_count": 16,
   "metadata": {},
   "outputs": [],
   "source": [
    "import pickle"
   ]
  },
  {
   "cell_type": "code",
   "execution_count": 15,
   "metadata": {},
   "outputs": [
    {
     "name": "stdout",
     "output_type": "stream",
     "text": [
      "multiple: 23\n",
      "sum_square: 25164150\n",
      "sundays: 171\n"
     ]
    }
   ],
   "source": [
    "with open('tests/score.pickle', 'rb') as file:\n",
    "    loaded_result = pickle.load(file)\n",
    "\n",
    "print(f\"multiple: {loaded_result.multiple}\")\n",
    "print(f\"sum_square: {loaded_result.sum_square}\")\n",
    "print(f\"sundays: {loaded_result.sundays}\")"
   ]
  },
  {
   "cell_type": "code",
   "execution_count": 13,
   "metadata": {},
   "outputs": [
    {
     "name": "stdout",
     "output_type": "stream",
     "text": [
      "{'name': 'score', 'subdir': None, 'multiple': 23, 'sum_square': 25164150, 'sundays': 171}\n"
     ]
    }
   ],
   "source": [
    "with open(\"tests/score.pickle\", \"rb\") as f:\n",
    "    unpickler = pickle.Unpickler(f)\n",
    "    try:\n",
    "        obj = unpickler.load()\n",
    "        print(obj.__dict__)\n",
    "    except AttributeError:\n",
    "        print(\"Couldn't access object attributes\")\n",
    "    except Exception as e:\n",
    "        print(f\"Error: {e}\")"
   ]
  },
  {
   "cell_type": "code",
   "execution_count": 82,
   "metadata": {},
   "outputs": [
    {
     "data": {
      "text/plain": [
       "{'name': 'full', 'multiple': 23, 'sum_square': 25164150, 'sundays': 171}"
      ]
     },
     "execution_count": 82,
     "metadata": {},
     "output_type": "execute_result"
    }
   ],
   "source": [
    "# # Create the object with the correct attributes\n",
    "# score = {\n",
    "\n",
    "#     'multiple': 23,\n",
    "#     'sum_square': 25164150,\n",
    "#     'sundays': 171\n",
    "# }\n",
    "\n",
    "# # Save the object to a pickle file\n",
    "# with open('tests/score.pickle', 'wb') as f:\n",
    "#     pickle.dump(full_gas_result, f)\n",
    "\n",
    "# # Verify the file was saved correctly\n",
    "# with open('tests/score.pickle', 'rb') as f:\n",
    "#     loaded_result = pickle.load(f)\n",
    "# loaded_result\n"
   ]
  },
  {
   "cell_type": "code",
   "execution_count": 12,
   "metadata": {},
   "outputs": [
    {
     "data": {
      "text/plain": [
       "{'name': 'score', 'multiple': 23, 'sum_square': 25164150, 'sundays': 171}"
      ]
     },
     "execution_count": 12,
     "metadata": {},
     "output_type": "execute_result"
    }
   ],
   "source": [
    "# Create the object with the attributes\n",
    "score = {\n",
    "    'name': 'score',\n",
    "    'multiple': 23,\n",
    "    'sum_square': 25164150,\n",
    "    'sundays': 171\n",
    "}\n",
    "\n",
    "# Saving\n",
    "with open('tests/score.pickle', 'wb') as f:\n",
    "    pickle.dump(score, f)\n",
    "\n",
    "# Verifying\n",
    "with open('tests/score.pickle', 'rb') as f:\n",
    "    loaded_result = pickle.load(f)\n",
    "loaded_result"
   ]
  },
  {
   "cell_type": "code",
   "execution_count": null,
   "metadata": {},
   "outputs": [],
   "source": []
  }
 ],
 "metadata": {
  "kernelspec": {
   "display_name": "euler",
   "language": "python",
   "name": "python3"
  },
  "language_info": {
   "codemirror_mode": {
    "name": "ipython",
    "version": 3
   },
   "file_extension": ".py",
   "mimetype": "text/x-python",
   "name": "python",
   "nbconvert_exporter": "python",
   "pygments_lexer": "ipython3",
   "version": "3.8.12"
  }
 },
 "nbformat": 4,
 "nbformat_minor": 2
}
